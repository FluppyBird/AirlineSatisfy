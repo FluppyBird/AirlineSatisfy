{
 "cells": [
  {
   "cell_type": "code",
   "execution_count": 20,
   "id": "5626cae3",
   "metadata": {},
   "outputs": [],
   "source": [
    "import numpy as np\n",
    "import matplotlib.pyplot as plt\n",
    "import pandas as pd\n",
    "import seaborn as sns\n",
    "import sklearn\n",
    "from sklearn.preprocessing import LabelEncoder, StandardScaler\n",
    "from sklearn.neural_network import MLPClassifier\n",
    "from sklearn.metrics import accuracy_score\n",
    "from sklearn.neighbors import KNeighborsClassifier\n",
    "from sklearn.model_selection import GridSearchCV\n",
    "from sklearn.svm import SVC\n",
    "from sklearn import ensemble\n",
    "import warnings\n",
    "warnings.filterwarnings(\"ignore\")\n",
    "%matplotlib inline"
   ]
  },
  {
   "cell_type": "code",
   "execution_count": 21,
   "id": "a810ab34",
   "metadata": {
    "scrolled": true
   },
   "outputs": [
    {
     "name": "stdout",
     "output_type": "stream",
     "text": [
      "<class 'pandas.core.frame.DataFrame'>\n",
      "RangeIndex: 103904 entries, 0 to 103903\n",
      "Data columns (total 98 columns):\n",
      " #   Column                               Non-Null Count   Dtype  \n",
      "---  ------                               --------------   -----  \n",
      " 0   Age                                  103904 non-null  float64\n",
      " 1   Flight Distance                      103904 non-null  float64\n",
      " 2   Departure Delay in Minutes           103904 non-null  float64\n",
      " 3   Arrival Delay in Minutes             103904 non-null  float64\n",
      " 4   Service Score                        103904 non-null  float64\n",
      " 5   Departure Delay                      103904 non-null  int64  \n",
      " 6   Arrival Delay                        103904 non-null  int64  \n",
      " 7   Long Distance Flight                 103904 non-null  int64  \n",
      " 8   Class_Business                       103904 non-null  int64  \n",
      " 9   Class_Eco                            103904 non-null  int64  \n",
      " 10  Class_Eco Plus                       103904 non-null  int64  \n",
      " 11  Inflight wifi service_0              103904 non-null  int64  \n",
      " 12  Inflight wifi service_1              103904 non-null  int64  \n",
      " 13  Inflight wifi service_2              103904 non-null  int64  \n",
      " 14  Inflight wifi service_3              103904 non-null  int64  \n",
      " 15  Inflight wifi service_4              103904 non-null  int64  \n",
      " 16  Inflight wifi service_5              103904 non-null  int64  \n",
      " 17  Departure/Arrival time convenient_0  103904 non-null  int64  \n",
      " 18  Departure/Arrival time convenient_1  103904 non-null  int64  \n",
      " 19  Departure/Arrival time convenient_2  103904 non-null  int64  \n",
      " 20  Departure/Arrival time convenient_3  103904 non-null  int64  \n",
      " 21  Departure/Arrival time convenient_4  103904 non-null  int64  \n",
      " 22  Departure/Arrival time convenient_5  103904 non-null  int64  \n",
      " 23  Ease of Online booking_0             103904 non-null  int64  \n",
      " 24  Ease of Online booking_1             103904 non-null  int64  \n",
      " 25  Ease of Online booking_2             103904 non-null  int64  \n",
      " 26  Ease of Online booking_3             103904 non-null  int64  \n",
      " 27  Ease of Online booking_4             103904 non-null  int64  \n",
      " 28  Ease of Online booking_5             103904 non-null  int64  \n",
      " 29  Gate location_0                      103904 non-null  int64  \n",
      " 30  Gate location_1                      103904 non-null  int64  \n",
      " 31  Gate location_2                      103904 non-null  int64  \n",
      " 32  Gate location_3                      103904 non-null  int64  \n",
      " 33  Gate location_4                      103904 non-null  int64  \n",
      " 34  Gate location_5                      103904 non-null  int64  \n",
      " 35  Food and drink_0                     103904 non-null  int64  \n",
      " 36  Food and drink_1                     103904 non-null  int64  \n",
      " 37  Food and drink_2                     103904 non-null  int64  \n",
      " 38  Food and drink_3                     103904 non-null  int64  \n",
      " 39  Food and drink_4                     103904 non-null  int64  \n",
      " 40  Food and drink_5                     103904 non-null  int64  \n",
      " 41  Online boarding_0                    103904 non-null  int64  \n",
      " 42  Online boarding_1                    103904 non-null  int64  \n",
      " 43  Online boarding_2                    103904 non-null  int64  \n",
      " 44  Online boarding_3                    103904 non-null  int64  \n",
      " 45  Online boarding_4                    103904 non-null  int64  \n",
      " 46  Online boarding_5                    103904 non-null  int64  \n",
      " 47  Seat comfort_0                       103904 non-null  int64  \n",
      " 48  Seat comfort_1                       103904 non-null  int64  \n",
      " 49  Seat comfort_2                       103904 non-null  int64  \n",
      " 50  Seat comfort_3                       103904 non-null  int64  \n",
      " 51  Seat comfort_4                       103904 non-null  int64  \n",
      " 52  Seat comfort_5                       103904 non-null  int64  \n",
      " 53  Inflight entertainment_0             103904 non-null  int64  \n",
      " 54  Inflight entertainment_1             103904 non-null  int64  \n",
      " 55  Inflight entertainment_2             103904 non-null  int64  \n",
      " 56  Inflight entertainment_3             103904 non-null  int64  \n",
      " 57  Inflight entertainment_4             103904 non-null  int64  \n",
      " 58  Inflight entertainment_5             103904 non-null  int64  \n",
      " 59  On-board service_0                   103904 non-null  int64  \n",
      " 60  On-board service_1                   103904 non-null  int64  \n",
      " 61  On-board service_2                   103904 non-null  int64  \n",
      " 62  On-board service_3                   103904 non-null  int64  \n",
      " 63  On-board service_4                   103904 non-null  int64  \n",
      " 64  On-board service_5                   103904 non-null  int64  \n",
      " 65  Leg room service_0                   103904 non-null  int64  \n",
      " 66  Leg room service_1                   103904 non-null  int64  \n",
      " 67  Leg room service_2                   103904 non-null  int64  \n",
      " 68  Leg room service_3                   103904 non-null  int64  \n",
      " 69  Leg room service_4                   103904 non-null  int64  \n",
      " 70  Leg room service_5                   103904 non-null  int64  \n",
      " 71  Baggage handling_1                   103904 non-null  int64  \n",
      " 72  Baggage handling_2                   103904 non-null  int64  \n",
      " 73  Baggage handling_3                   103904 non-null  int64  \n",
      " 74  Baggage handling_4                   103904 non-null  int64  \n",
      " 75  Baggage handling_5                   103904 non-null  int64  \n",
      " 76  Checkin service_0                    103904 non-null  int64  \n",
      " 77  Checkin service_1                    103904 non-null  int64  \n",
      " 78  Checkin service_2                    103904 non-null  int64  \n",
      " 79  Checkin service_3                    103904 non-null  int64  \n",
      " 80  Checkin service_4                    103904 non-null  int64  \n",
      " 81  Checkin service_5                    103904 non-null  int64  \n",
      " 82  Inflight service_0                   103904 non-null  int64  \n",
      " 83  Inflight service_1                   103904 non-null  int64  \n",
      " 84  Inflight service_2                   103904 non-null  int64  \n",
      " 85  Inflight service_3                   103904 non-null  int64  \n",
      " 86  Inflight service_4                   103904 non-null  int64  \n",
      " 87  Inflight service_5                   103904 non-null  int64  \n",
      " 88  Cleanliness_0                        103904 non-null  int64  \n",
      " 89  Cleanliness_1                        103904 non-null  int64  \n",
      " 90  Cleanliness_2                        103904 non-null  int64  \n",
      " 91  Cleanliness_3                        103904 non-null  int64  \n",
      " 92  Cleanliness_4                        103904 non-null  int64  \n",
      " 93  Cleanliness_5                        103904 non-null  int64  \n",
      " 94  Gender                               103904 non-null  int64  \n",
      " 95  Customer Type                        103904 non-null  int64  \n",
      " 96  Type of Travel                       103904 non-null  int64  \n",
      " 97  satisfaction                         103904 non-null  object \n",
      "dtypes: float64(5), int64(92), object(1)\n",
      "memory usage: 77.7+ MB\n"
     ]
    }
   ],
   "source": [
    "data = pd.read_csv(\"./data/train_data.csv\")\n",
    "data.info()"
   ]
  },
  {
   "cell_type": "markdown",
   "id": "88263108",
   "metadata": {},
   "source": [
    "<div style=\"\n",
    "    border: 2px solid #3e4a5a; \n",
    "    border-radius: 12px; \n",
    "    background: linear-gradient(135deg, #d3d6db, #bfc7d5); \n",
    "    padding: 20px; \n",
    "    text-align: center; \n",
    "    font-family: 'Microsoft YaHei', sans-serif; \n",
    "    font-size: 24px; \n",
    "    font-weight: bold; \n",
    "    color: #2a2a40; \n",
    "    box-shadow: 4px 4px 12px rgba(0, 0, 0, 0.2);\n",
    "\">\n",
    "    <h1 style=\"margin: 0; font-size: 26px;\">Splitting the data 🔧</h1>\n",
    "</div>\n"
   ]
  },
  {
   "cell_type": "code",
   "execution_count": 22,
   "id": "b789d353",
   "metadata": {},
   "outputs": [],
   "source": [
    "target = data['satisfaction']\n",
    "data = data.drop(columns=[\"satisfaction\"])"
   ]
  },
  {
   "cell_type": "code",
   "execution_count": 23,
   "id": "1986d498",
   "metadata": {},
   "outputs": [],
   "source": [
    "le = LabelEncoder()\n",
    "target_encoded = le.fit_transform(target)"
   ]
  },
  {
   "cell_type": "code",
   "execution_count": 24,
   "id": "19f76cd8",
   "metadata": {},
   "outputs": [
    {
     "data": {
      "text/plain": [
       "((103904, 97), (103904,))"
      ]
     },
     "execution_count": 24,
     "metadata": {},
     "output_type": "execute_result"
    }
   ],
   "source": [
    "X = data\n",
    "y = target_encoded\n",
    "X.shape, y.shape"
   ]
  },
  {
   "cell_type": "code",
   "execution_count": 25,
   "id": "0c547da5",
   "metadata": {},
   "outputs": [
    {
     "data": {
      "text/plain": [
       "array([0, 0, 1, ..., 0, 0, 0])"
      ]
     },
     "execution_count": 25,
     "metadata": {},
     "output_type": "execute_result"
    }
   ],
   "source": [
    "y"
   ]
  },
  {
   "cell_type": "code",
   "execution_count": 26,
   "id": "7e9533a4",
   "metadata": {},
   "outputs": [
    {
     "data": {
      "text/plain": [
       "((93513, 97), (10391, 97))"
      ]
     },
     "execution_count": 26,
     "metadata": {},
     "output_type": "execute_result"
    }
   ],
   "source": [
    "from sklearn.model_selection import train_test_split\n",
    "X_train, X_test, y_train, y_test = train_test_split(X, y, test_size = 0.1, random_state = 123)\n",
    "\n",
    "X_train.shape,  X_test.shape "
   ]
  },
  {
   "cell_type": "markdown",
   "id": "6be89b75",
   "metadata": {},
   "source": [
    " <div style=\"\n",
    "    border: 2px solid #3e4a5a; \n",
    "    border-radius: 12px; \n",
    "    background: linear-gradient(135deg, #d3d6db, #bfc7d5); \n",
    "    padding: 20px; \n",
    "    text-align: center; \n",
    "    font-family: 'Microsoft YaHei', sans-serif; \n",
    "    font-size: 24px; \n",
    "    font-weight: bold; \n",
    "    color: #2a2a40; \n",
    "    box-shadow: 4px 4px 12px rgba(0, 0, 0, 0.2);\n",
    "\">\n",
    "    <h1 style=\"margin: 0; font-size: 26px;\">Dummy Model 🔧</h1>\n",
    "</div>\n"
   ]
  },
  {
   "cell_type": "code",
   "execution_count": 28,
   "id": "baeeafe7",
   "metadata": {},
   "outputs": [
    {
     "name": "stdout",
     "output_type": "stream",
     "text": [
      "Dummy Model Accuracy: 0.5678\n"
     ]
    }
   ],
   "source": [
    "from sklearn.dummy import DummyClassifier\n",
    "from sklearn.metrics import accuracy_score\n",
    "\n",
    "model = DummyClassifier(strategy=\"most_frequent\")\n",
    "model.fit(X_train, y_train)\n",
    "\n",
    "y_pred = model.predict(X_test)\n",
    "\n",
    "accuracy = accuracy_score(y_test, y_pred)\n",
    "print(f\"Dummy Model Accuracy: {accuracy_score(y_test, y_pred):.4f}\")"
   ]
  },
  {
   "cell_type": "code",
   "execution_count": 29,
   "id": "29423078",
   "metadata": {},
   "outputs": [
    {
     "name": "stdout",
     "output_type": "stream",
     "text": [
      "[[5900    0]\n",
      " [4491    0]]\n",
      "              precision    recall  f1-score   support\n",
      "\n",
      "           0       0.57      1.00      0.72      5900\n",
      "           1       0.00      0.00      0.00      4491\n",
      "\n",
      "    accuracy                           0.57     10391\n",
      "   macro avg       0.28      0.50      0.36     10391\n",
      "weighted avg       0.32      0.57      0.41     10391\n",
      "\n",
      "0.5\n"
     ]
    }
   ],
   "source": [
    "from sklearn.metrics import confusion_matrix\n",
    "from sklearn.metrics import classification_report\n",
    "from sklearn.metrics import roc_auc_score\n",
    "print(confusion_matrix(y_test, y_pred))\n",
    "print(classification_report(y_test, y_pred))\n",
    "print(roc_auc_score(y_test, model.predict_proba(X_test)[:, 1]))"
   ]
  },
  {
   "cell_type": "markdown",
   "id": "48351a2a",
   "metadata": {},
   "source": [
    " <div style=\"\n",
    "    border: 2px solid #3e4a5a; \n",
    "    border-radius: 12px; \n",
    "    background: linear-gradient(135deg, #d3d6db, #bfc7d5); \n",
    "    padding: 20px; \n",
    "    text-align: center; \n",
    "    font-family: 'Microsoft YaHei', sans-serif; \n",
    "    font-size: 24px; \n",
    "    font-weight: bold; \n",
    "    color: #2a2a40; \n",
    "    box-shadow: 4px 4px 12px rgba(0, 0, 0, 0.2);\n",
    "\">\n",
    "    <h1 style=\"margin: 0; font-size: 26px;\">Logistic Regression 🔧</h1>\n",
    "</div>\n"
   ]
  },
  {
   "cell_type": "code",
   "execution_count": 30,
   "id": "56fe0b2a",
   "metadata": {},
   "outputs": [
    {
     "name": "stdout",
     "output_type": "stream",
     "text": [
      "Accuracy: 0.9348\n"
     ]
    }
   ],
   "source": [
    "from sklearn.linear_model import LogisticRegression\n",
    "\n",
    "model = LogisticRegression(max_iter=2000, class_weight='balanced')\n",
    "model.fit(X_train, y_train)\n",
    "\n",
    "y_pred = model.predict(X_test)\n",
    "print(f\"Accuracy: {accuracy_score(y_test, y_pred):.4f}\")"
   ]
  },
  {
   "cell_type": "code",
   "execution_count": 31,
   "id": "8fa71397",
   "metadata": {},
   "outputs": [
    {
     "name": "stdout",
     "output_type": "stream",
     "text": [
      "[[5562  338]\n",
      " [ 340 4151]]\n",
      "              precision    recall  f1-score   support\n",
      "\n",
      "           0       0.94      0.94      0.94      5900\n",
      "           1       0.92      0.92      0.92      4491\n",
      "\n",
      "    accuracy                           0.93     10391\n",
      "   macro avg       0.93      0.93      0.93     10391\n",
      "weighted avg       0.93      0.93      0.93     10391\n",
      "\n",
      "0.9800561197725016\n"
     ]
    }
   ],
   "source": [
    "print(confusion_matrix(y_test, y_pred))\n",
    "print(classification_report(y_test, y_pred))\n",
    "print(roc_auc_score(y_test, model.predict_proba(X_test)[:, 1]))"
   ]
  },
  {
   "cell_type": "markdown",
   "id": "28be3401",
   "metadata": {},
   "source": [
    " <div style=\"\n",
    "    border: 2px solid #3e4a5a; \n",
    "    border-radius: 12px; \n",
    "    background: linear-gradient(135deg, #d3d6db, #bfc7d5); \n",
    "    padding: 20px; \n",
    "    text-align: center; \n",
    "    font-family: 'Microsoft YaHei', sans-serif; \n",
    "    font-size: 24px; \n",
    "    font-weight: bold; \n",
    "    color: #2a2a40; \n",
    "    box-shadow: 4px 4px 12px rgba(0, 0, 0, 0.2);\n",
    "\">\n",
    "    <h1 style=\"margin: 0; font-size: 26px;\">SVM 🔧</h1>\n",
    "</div>\n"
   ]
  },
  {
   "cell_type": "code",
   "execution_count": 39,
   "id": "2e927ee9",
   "metadata": {},
   "outputs": [
    {
     "name": "stdout",
     "output_type": "stream",
     "text": [
      "SVM Accuracy: 0.9629\n"
     ]
    }
   ],
   "source": [
    "from sklearn.svm import SVC\n",
    "from sklearn.preprocessing import StandardScaler\n",
    "from sklearn.metrics import accuracy_score\n",
    "\n",
    "scaler = StandardScaler()\n",
    "X_train_scaled = scaler.fit_transform(X_train)\n",
    "X_test_scaled = scaler.transform(X_test)\n",
    "\n",
    "svm_model = SVC(kernel='rbf', C=1.0, class_weight='balanced', probability=True)\n",
    "\n",
    "svm_model.fit(X_train_scaled, y_train)\n",
    "\n",
    "y_pred_svm = svm_model.predict(X_test_scaled)\n",
    "\n",
    "accuracy_svm = accuracy_score(y_test, y_pred_svm)\n",
    "print(f\"SVM Accuracy: {accuracy_svm:.4f}\")"
   ]
  },
  {
   "cell_type": "markdown",
   "id": "b60294e4",
   "metadata": {},
   "source": [
    " <div style=\"\n",
    "    border: 2px solid #3e4a5a; \n",
    "    border-radius: 12px; \n",
    "    background: linear-gradient(135deg, #d3d6db, #bfc7d5); \n",
    "    padding: 20px; \n",
    "    text-align: center; \n",
    "    font-family: 'Microsoft YaHei', sans-serif; \n",
    "    font-size: 24px; \n",
    "    font-weight: bold; \n",
    "    color: #2a2a40; \n",
    "    box-shadow: 4px 4px 12px rgba(0, 0, 0, 0.2);\n",
    "\">\n",
    "    <h1 style=\"margin: 0; font-size: 26px;\">Random Forest 🔧</h1>\n",
    "</div>\n"
   ]
  },
  {
   "cell_type": "code",
   "execution_count": 32,
   "id": "6359fcc3",
   "metadata": {},
   "outputs": [
    {
     "name": "stdout",
     "output_type": "stream",
     "text": [
      "Random Forest Accuracy: 0.9595\n"
     ]
    }
   ],
   "source": [
    "from sklearn.ensemble import RandomForestClassifier\n",
    "\n",
    "model = RandomForestClassifier(n_estimators=100, class_weight='balanced', random_state=42)\n",
    "model.fit(X_train, y_train)\n",
    "\n",
    "y_pred_rf = rf_model.predict(X_test)\n",
    "print(f\"Random Forest Accuracy: {accuracy_score(y_test, y_pred_rf):.4f}\")"
   ]
  },
  {
   "cell_type": "code",
   "execution_count": 33,
   "id": "af5ab917",
   "metadata": {},
   "outputs": [
    {
     "name": "stdout",
     "output_type": "stream",
     "text": [
      "[[5562  338]\n",
      " [ 340 4151]]\n",
      "              precision    recall  f1-score   support\n",
      "\n",
      "           0       0.94      0.94      0.94      5900\n",
      "           1       0.92      0.92      0.92      4491\n",
      "\n",
      "    accuracy                           0.93     10391\n",
      "   macro avg       0.93      0.93      0.93     10391\n",
      "weighted avg       0.93      0.93      0.93     10391\n",
      "\n",
      "0.9934933331823723\n"
     ]
    }
   ],
   "source": [
    "print(confusion_matrix(y_test, y_pred))\n",
    "print(classification_report(y_test, y_pred))\n",
    "print(roc_auc_score(y_test, model.predict_proba(X_test)[:, 1]))"
   ]
  },
  {
   "cell_type": "markdown",
   "id": "57451cfb",
   "metadata": {},
   "source": [
    "## Finding the best hyperparameter"
   ]
  },
  {
   "cell_type": "code",
   "execution_count": 14,
   "id": "53175eae",
   "metadata": {},
   "outputs": [
    {
     "name": "stdout",
     "output_type": "stream",
     "text": [
      "Best Parameters: {'max_depth': None, 'min_samples_split': 2, 'n_estimators': 200}\n"
     ]
    }
   ],
   "source": [
    "from sklearn.model_selection import GridSearchCV\n",
    "\n",
    "param_grid = {\n",
    "    'n_estimators': [100, 200],\n",
    "    'max_depth': [10, 20, None],\n",
    "    'min_samples_split': [2, 5, 10]\n",
    "}\n",
    "\n",
    "grid_search = GridSearchCV(RandomForestClassifier(class_weight='balanced', random_state=42),\n",
    "                           param_grid, cv=3, scoring='accuracy')\n",
    "grid_search.fit(X_train, y_train)\n",
    "\n",
    "print(f\"Best Parameters: {grid_search.best_params_}\")"
   ]
  },
  {
   "cell_type": "markdown",
   "id": "f742aab9",
   "metadata": {},
   "source": [
    " ## Utilizing the best hyperparameter to train model"
   ]
  },
  {
   "cell_type": "code",
   "execution_count": 34,
   "id": "b95b1aa5",
   "metadata": {},
   "outputs": [
    {
     "name": "stdout",
     "output_type": "stream",
     "text": [
      "Random Forest Accuracy: 0.9595\n"
     ]
    }
   ],
   "source": [
    "from sklearn.ensemble import RandomForestClassifier\n",
    "\n",
    "model = RandomForestClassifier(n_estimators=200, max_depth=None,min_samples_split=2, class_weight='balanced', random_state=42)\n",
    "model.fit(X_train, y_train)\n",
    "\n",
    "y_pred_rf = rf_model.predict(X_test)\n",
    "print(f\"Random Forest Accuracy: {accuracy_score(y_test, y_pred_rf):.4f}\")"
   ]
  },
  {
   "cell_type": "code",
   "execution_count": 35,
   "id": "069a938b",
   "metadata": {},
   "outputs": [
    {
     "name": "stdout",
     "output_type": "stream",
     "text": [
      "[[5562  338]\n",
      " [ 340 4151]]\n",
      "              precision    recall  f1-score   support\n",
      "\n",
      "           0       0.94      0.94      0.94      5900\n",
      "           1       0.92      0.92      0.92      4491\n",
      "\n",
      "    accuracy                           0.93     10391\n",
      "   macro avg       0.93      0.93      0.93     10391\n",
      "weighted avg       0.93      0.93      0.93     10391\n",
      "\n",
      "0.993659390343776\n"
     ]
    }
   ],
   "source": [
    "print(confusion_matrix(y_test, y_pred))\n",
    "print(classification_report(y_test, y_pred))\n",
    "print(roc_auc_score(y_test, model.predict_proba(X_test)[:, 1]))"
   ]
  },
  {
   "cell_type": "markdown",
   "id": "4e5b1836",
   "metadata": {},
   "source": [
    "## Analyzing the 10th most important features"
   ]
  },
  {
   "cell_type": "code",
   "execution_count": 36,
   "id": "bf2b8131",
   "metadata": {},
   "outputs": [
    {
     "data": {
      "image/png": "[encoded data removed]",
      "text/plain": [
       "<Figure size 800x500 with 1 Axes>"
      ]
     },
     "metadata": {},
     "output_type": "display_data"
    }
   ],
   "source": [
    "import pandas as pd\n",
    "import matplotlib.pyplot as plt\n",
    "\n",
    "feature_importances = pd.Series(rf_model.feature_importances_, index=X_train.columns)\n",
    "feature_importances.nlargest(10).plot(kind='barh', figsize=(8, 5), color='teal')\n",
    "plt.title(\"Top 10 Feature Importances in Random Forest\")\n",
    "plt.show()\n"
   ]
  },
  {
   "cell_type": "markdown",
   "id": "de669868",
   "metadata": {},
   "source": [
    " <div style=\"\n",
    "    border: 2px solid #3e4a5a; \n",
    "    border-radius: 12px; \n",
    "    background: linear-gradient(135deg, #d3d6db, #bfc7d5); \n",
    "    padding: 20px; \n",
    "    text-align: center; \n",
    "    font-family: 'Microsoft YaHei', sans-serif; \n",
    "    font-size: 24px; \n",
    "    font-weight: bold; \n",
    "    color: #2a2a40; \n",
    "    box-shadow: 4px 4px 12px rgba(0, 0, 0, 0.2);\n",
    "\">\n",
    "    <h1 style=\"margin: 0; font-size: 26px;\">XGBoost 🔧</h1>\n",
    "</div>\n"
   ]
  },
  {
   "cell_type": "code",
   "execution_count": 39,
   "id": "ff2a8048",
   "metadata": {},
   "outputs": [
    {
     "name": "stdout",
     "output_type": "stream",
     "text": [
      "XGBoost Accuracy: 0.9636\n"
     ]
    }
   ],
   "source": [
    "from xgboost import XGBClassifier\n",
    "\n",
    "model = XGBClassifier(use_label_encoder=False, eval_metric=\"logloss\", n_estimators=100)\n",
    "model.fit(X_train, y_train)\n",
    "\n",
    "y_pred_xgb = model.predict(X_test)\n",
    "print(f\"XGBoost Accuracy: {accuracy_score(y_test, y_pred_xgb):.4f}\")"
   ]
  },
  {
   "cell_type": "code",
   "execution_count": 40,
   "id": "ae76a084",
   "metadata": {},
   "outputs": [
    {
     "name": "stdout",
     "output_type": "stream",
     "text": [
      "[[5562  338]\n",
      " [ 340 4151]]\n",
      "              precision    recall  f1-score   support\n",
      "\n",
      "           0       0.94      0.94      0.94      5900\n",
      "           1       0.92      0.92      0.92      4491\n",
      "\n",
      "    accuracy                           0.93     10391\n",
      "   macro avg       0.93      0.93      0.93     10391\n",
      "weighted avg       0.93      0.93      0.93     10391\n",
      "\n",
      "0.9951653400963887\n"
     ]
    }
   ],
   "source": [
    "print(confusion_matrix(y_test, y_pred))\n",
    "print(classification_report(y_test, y_pred))\n",
    "print(roc_auc_score(y_test, model.predict_proba(X_test)[:, 1]))"
   ]
  },
  {
   "cell_type": "markdown",
   "id": "7099eaa4",
   "metadata": {},
   "source": [
    "## Finding the best hyperparameter"
   ]
  },
  {
   "cell_type": "code",
   "execution_count": 41,
   "id": "4f2588ea",
   "metadata": {},
   "outputs": [
    {
     "name": "stdout",
     "output_type": "stream",
     "text": [
      "Best Parameters: {'learning_rate': 0.1, 'max_depth': 10, 'n_estimators': 100}\n"
     ]
    }
   ],
   "source": [
    "from sklearn.model_selection import GridSearchCV\n",
    "\n",
    "param_grid = {\n",
    "    'n_estimators': [100, 200],\n",
    "    'max_depth': [3, 6, 10],\n",
    "    'learning_rate': [0.01, 0.1, 0.2]\n",
    "}\n",
    "\n",
    "grid_search = GridSearchCV(XGBClassifier(use_label_encoder=False, eval_metric=\"logloss\"),\n",
    "                           param_grid, cv=3, scoring='accuracy')\n",
    "grid_search.fit(X_train, y_train)\n",
    "\n",
    "print(f\"Best Parameters: {grid_search.best_params_}\")"
   ]
  },
  {
   "cell_type": "markdown",
   "id": "1edfa495",
   "metadata": {},
   "source": [
    " ## Utilizing the best hyperparameter to train model"
   ]
  },
  {
   "cell_type": "code",
   "execution_count": 44,
   "id": "11a898b6",
   "metadata": {},
   "outputs": [
    {
     "name": "stdout",
     "output_type": "stream",
     "text": [
      "XGBoost Accuracy: 0.9656\n"
     ]
    }
   ],
   "source": [
    "from xgboost import XGBClassifier\n",
    "\n",
    "model = XGBClassifier(use_label_encoder=False, learning_rate='0.1',max_depth='10',eval_metric=\"logloss\", n_estimators=100)\n",
    "model.fit(X_train, y_train)\n",
    "\n",
    "y_pred_xgb = model.predict(X_test)\n",
    "print(f\"XGBoost Accuracy: {accuracy_score(y_test, y_pred_xgb):.4f}\")"
   ]
  },
  {
   "cell_type": "code",
   "execution_count": 40,
   "id": "415047e1",
   "metadata": {},
   "outputs": [
    {
     "name": "stdout",
     "output_type": "stream",
     "text": [
      "[[5562  338]\n",
      " [ 340 4151]]\n",
      "              precision    recall  f1-score   support\n",
      "\n",
      "           0       0.94      0.94      0.94      5900\n",
      "           1       0.92      0.92      0.92      4491\n",
      "\n",
      "    accuracy                           0.93     10391\n",
      "   macro avg       0.93      0.93      0.93     10391\n",
      "weighted avg       0.93      0.93      0.93     10391\n",
      "\n",
      "0.9951653400963887\n"
     ]
    }
   ],
   "source": [
    "print(confusion_matrix(y_test, y_pred))\n",
    "print(classification_report(y_test, y_pred))\n",
    "print(roc_auc_score(y_test, model.predict_proba(X_test)[:, 1]))"
   ]
  },
  {
   "cell_type": "markdown",
   "id": "dec4f35f",
   "metadata": {},
   "source": [
    "## Analyzing the 10th most important features"
   ]
  },
  {
   "cell_type": "code",
   "execution_count": 46,
   "id": "cde158fb",
   "metadata": {
    "scrolled": false
   },
   "outputs": [
    {
     "data": {
      "image/png": "[encoded data removed]",
      "text/plain": [
       "<Figure size 800x500 with 1 Axes>"
      ]
     },
     "metadata": {},
     "output_type": "display_data"
    }
   ],
   "source": [
    "feature_importances = pd.Series(model.feature_importances_, index=X_train.columns)\n",
    "\n",
    "feature_importances.nlargest(10).plot(kind='barh', figsize=(8, 5), color='teal')\n",
    "plt.title(\"Top 10 Feature Importances in XGBoost\")\n",
    "plt.show()"
   ]
  },
  {
   "cell_type": "markdown",
   "id": "8347d5f3",
   "metadata": {},
   "source": [
    " <div style=\"\n",
    "    border: 2px solid #3e4a5a; \n",
    "    border-radius: 12px; \n",
    "    background: linear-gradient(135deg, #d3d6db, #bfc7d5); \n",
    "    padding: 20px; \n",
    "    text-align: center; \n",
    "    font-family: 'Microsoft YaHei', sans-serif; \n",
    "    font-size: 24px; \n",
    "    font-weight: bold; \n",
    "    color: #2a2a40; \n",
    "    box-shadow: 4px 4px 12px rgba(0, 0, 0, 0.2);\n",
    "\">\n",
    "    <h1 style=\"margin: 0; font-size: 26px;\">lightGBM 🔧</h1>\n",
    "</div>\n"
   ]
  },
  {
   "cell_type": "code",
   "execution_count": 57,
   "id": "62f9fa98",
   "metadata": {},
   "outputs": [
    {
     "name": "stdout",
     "output_type": "stream",
     "text": [
      "LightGBM Accuracy: 0.9647\n"
     ]
    }
   ],
   "source": [
    "from lightgbm import LGBMClassifier\n",
    "from sklearn.metrics import accuracy_score\n",
    "\n",
    "model = LGBMClassifier(n_estimators=100, learning_rate=0.1, verbose=-1, random_state=42)\n",
    "model.fit(X_train, y_train)\n",
    "\n",
    "y_pred = model.predict(X_test)\n",
    "print(f\"LightGBM Accuracy: {accuracy_score(y_test, y_pred):.4f}\")"
   ]
  },
  {
   "cell_type": "code",
   "execution_count": 58,
   "id": "c7ecdda5",
   "metadata": {},
   "outputs": [
    {
     "name": "stdout",
     "output_type": "stream",
     "text": [
      "[[5797  103]\n",
      " [ 264 4227]]\n",
      "              precision    recall  f1-score   support\n",
      "\n",
      "           0       0.96      0.98      0.97      5900\n",
      "           1       0.98      0.94      0.96      4491\n",
      "\n",
      "    accuracy                           0.96     10391\n",
      "   macro avg       0.97      0.96      0.96     10391\n",
      "weighted avg       0.96      0.96      0.96     10391\n",
      "\n",
      "0.9951182591171042\n"
     ]
    }
   ],
   "source": [
    "print(confusion_matrix(y_test, y_pred))\n",
    "print(classification_report(y_test, y_pred))\n",
    "print(roc_auc_score(y_test, model.predict_proba(X_test)[:, 1]))"
   ]
  },
  {
   "cell_type": "markdown",
   "id": "43cfb0b9",
   "metadata": {},
   "source": [
    "## Finding the best hyperparameter"
   ]
  },
  {
   "cell_type": "code",
   "execution_count": 55,
   "id": "a2994fa2",
   "metadata": {},
   "outputs": [
    {
     "name": "stdout",
     "output_type": "stream",
     "text": [
      "Best Parameters: {'learning_rate': 0.1, 'max_depth': 20, 'n_estimators': 300}\n"
     ]
    }
   ],
   "source": [
    "from sklearn.model_selection import GridSearchCV\n",
    "\n",
    "param_grid = {\n",
    "    'n_estimators': [200, 300, 500, 1000],\n",
    "    'max_depth': [3, 6, 10, 20, 50],\n",
    "    'learning_rate': [0.001, 0.01, 0.1, 0.2]\n",
    "}\n",
    "\n",
    "grid_search = GridSearchCV(LGBMClassifier(verbose=-1), param_grid, cv=3, scoring='accuracy')\n",
    "grid_search.fit(X_train, y_train)\n",
    "\n",
    "print(f\"Best Parameters: {grid_search.best_params_}\")\n"
   ]
  },
  {
   "cell_type": "markdown",
   "id": "22aad157",
   "metadata": {},
   "source": [
    " ## Utilizing the best hyperparameter to train model"
   ]
  },
  {
   "cell_type": "code",
   "execution_count": 59,
   "id": "035e413b",
   "metadata": {},
   "outputs": [
    {
     "name": "stdout",
     "output_type": "stream",
     "text": [
      "LightGBM Accuracy: 0.9655\n"
     ]
    }
   ],
   "source": [
    "from lightgbm import LGBMClassifier\n",
    "from sklearn.metrics import accuracy_score\n",
    "\n",
    "model = LGBMClassifier(n_estimators=300, learning_rate=0.1, max_depth=20, random_state=42)\n",
    "model.fit(X_train, y_train)\n",
    "\n",
    "y_pred = model.predict(X_test)\n",
    "print(f\"LightGBM Accuracy: {accuracy_score(y_test, y_pred):.4f}\")"
   ]
  },
  {
   "cell_type": "code",
   "execution_count": 60,
   "id": "ef4aa6dc",
   "metadata": {},
   "outputs": [
    {
     "name": "stdout",
     "output_type": "stream",
     "text": [
      "[[5792  108]\n",
      " [ 250 4241]]\n",
      "              precision    recall  f1-score   support\n",
      "\n",
      "           0       0.96      0.98      0.97      5900\n",
      "           1       0.98      0.94      0.96      4491\n",
      "\n",
      "    accuracy                           0.97     10391\n",
      "   macro avg       0.97      0.96      0.96     10391\n",
      "weighted avg       0.97      0.97      0.97     10391\n",
      "\n",
      "0.9955995607033276\n"
     ]
    }
   ],
   "source": [
    "print(confusion_matrix(y_test, y_pred))\n",
    "print(classification_report(y_test, y_pred))\n",
    "print(roc_auc_score(y_test, model.predict_proba(X_test)[:, 1]))"
   ]
  },
  {
   "cell_type": "markdown",
   "id": "f44e472e",
   "metadata": {},
   "source": [
    "## Analyzing the 10th most important features"
   ]
  },
  {
   "cell_type": "code",
   "execution_count": 62,
   "id": "8a112961",
   "metadata": {},
   "outputs": [
    {
     "data": {
      "image/png": "[encoded data removed]",
      "text/plain": [
       "<Figure size 800x500 with 1 Axes>"
      ]
     },
     "metadata": {},
     "output_type": "display_data"
    }
   ],
   "source": [
    "feature_importances = pd.Series(model.feature_importances_, index=X_train.columns)\n",
    "\n",
    "feature_importances.nlargest(10).plot(kind='barh', figsize=(8, 5), color='teal')\n",
    "plt.title(\"Top 10 Feature Importances in LightGBM\")\n",
    "plt.show()"
   ]
  },
  {
   "cell_type": "markdown",
   "id": "a9f42951",
   "metadata": {},
   "source": [
    " <div style=\"\n",
    "    border: 2px solid #3e4a5a; \n",
    "    border-radius: 12px; \n",
    "    background: linear-gradient(135deg, #d3d6db, #bfc7d5); \n",
    "    padding: 20px; \n",
    "    text-align: center; \n",
    "    font-family: 'Microsoft YaHei', sans-serif; \n",
    "    font-size: 24px; \n",
    "    font-weight: bold; \n",
    "    color: #2a2a40; \n",
    "    box-shadow: 4px 4px 12px rgba(0, 0, 0, 0.2);\n",
    "\">\n",
    "    <h1 style=\"margin: 0; font-size: 26px;\">KNN 🔧</h1>\n",
    "</div>\n"
   ]
  },
  {
   "cell_type": "code",
   "execution_count": 69,
   "id": "25f72806",
   "metadata": {},
   "outputs": [
    {
     "name": "stdout",
     "output_type": "stream",
     "text": [
      "KNN Accuracy: 0.9335\n"
     ]
    }
   ],
   "source": [
    "from sklearn.neighbors import KNeighborsClassifier\n",
    "\n",
    "model = KNeighborsClassifier(n_neighbors=5, weights='uniform', n_jobs=-1)\n",
    "model.fit(X_train, y_train)\n",
    "\n",
    "y_pred = model.predict(X_test)\n",
    "print(f\"KNN Accuracy: {accuracy_score(y_test, y_pred):.4f}\")"
   ]
  },
  {
   "cell_type": "code",
   "execution_count": 71,
   "id": "653fc7d4",
   "metadata": {},
   "outputs": [
    {
     "name": "stdout",
     "output_type": "stream",
     "text": [
      "[[5583  317]\n",
      " [ 374 4117]]\n",
      "              precision    recall  f1-score   support\n",
      "\n",
      "           0       0.94      0.95      0.94      5900\n",
      "           1       0.93      0.92      0.92      4491\n",
      "\n",
      "    accuracy                           0.93     10391\n",
      "   macro avg       0.93      0.93      0.93     10391\n",
      "weighted avg       0.93      0.93      0.93     10391\n",
      "\n",
      "0.9739003996693953\n"
     ]
    }
   ],
   "source": [
    "print(confusion_matrix(y_test, y_pred))\n",
    "print(classification_report(y_test, y_pred))\n",
    "print(roc_auc_score(y_test, model.predict_proba(X_test)[:, 1]))"
   ]
  },
  {
   "cell_type": "code",
   "execution_count": 72,
   "id": "843041a8",
   "metadata": {},
   "outputs": [],
   "source": [
    "from sklearn.preprocessing import StandardScaler\n",
    "scaler = StandardScaler()\n",
    "X_train_scaled = scaler.fit_transform(X_train)\n",
    "X_test_scaled = scaler.transform(X_test)"
   ]
  },
  {
   "cell_type": "code",
   "execution_count": 73,
   "id": "65e4d66b",
   "metadata": {},
   "outputs": [
    {
     "name": "stdout",
     "output_type": "stream",
     "text": [
      "KNN Accuracy: 0.9402\n"
     ]
    }
   ],
   "source": [
    "from sklearn.neighbors import KNeighborsClassifier\n",
    "\n",
    "model = KNeighborsClassifier(n_neighbors=5, weights='uniform')\n",
    "model.fit(X_train_scaled, y_train)\n",
    "\n",
    "y_pred = model.predict(X_test_scaled)\n",
    "print(f\"KNN Accuracy: {accuracy_score(y_test, y_pred):.4f}\")"
   ]
  },
  {
   "cell_type": "code",
   "execution_count": 74,
   "id": "763e33c8",
   "metadata": {},
   "outputs": [
    {
     "name": "stdout",
     "output_type": "stream",
     "text": [
      "[[5632  268]\n",
      " [ 353 4138]]\n",
      "              precision    recall  f1-score   support\n",
      "\n",
      "           0       0.94      0.95      0.95      5900\n",
      "           1       0.94      0.92      0.93      4491\n",
      "\n",
      "    accuracy                           0.94     10391\n",
      "   macro avg       0.94      0.94      0.94     10391\n",
      "weighted avg       0.94      0.94      0.94     10391\n",
      "\n",
      "0.9505546497892207\n"
     ]
    }
   ],
   "source": [
    "print(confusion_matrix(y_test, y_pred))\n",
    "print(classification_report(y_test, y_pred))\n",
    "print(roc_auc_score(y_test, model.predict_proba(X_test)[:, 1]))"
   ]
  },
  {
   "cell_type": "markdown",
   "id": "4581558a",
   "metadata": {},
   "source": [
    "## Finding the best hyperparameter"
   ]
  },
  {
   "cell_type": "code",
   "execution_count": 77,
   "id": "a15aefa3",
   "metadata": {},
   "outputs": [
    {
     "name": "stdout",
     "output_type": "stream",
     "text": [
      "Best K value: {'n_neighbors': 9}\n"
     ]
    }
   ],
   "source": [
    "from sklearn.model_selection import GridSearchCV\n",
    "\n",
    "param_grid = {'n_neighbors': [3, 5, 7, 9, 11, 13, 15]}\n",
    "grid_search = GridSearchCV(KNeighborsClassifier(), param_grid, cv=3, scoring='accuracy')\n",
    "grid_search.fit(X_train_scaled, y_train)\n",
    "\n",
    "print(f\"Best K value: {grid_search.best_params_}\")\n"
   ]
  },
  {
   "cell_type": "markdown",
   "id": "d22c9328",
   "metadata": {},
   "source": [
    " ## Utilizing the best hyperparameter to train model"
   ]
  },
  {
   "cell_type": "code",
   "execution_count": 78,
   "id": "0798b10d",
   "metadata": {},
   "outputs": [
    {
     "name": "stdout",
     "output_type": "stream",
     "text": [
      "KNN Accuracy: 0.9432\n"
     ]
    }
   ],
   "source": [
    "from sklearn.neighbors import KNeighborsClassifier\n",
    "\n",
    "model = KNeighborsClassifier(n_neighbors=9, weights='uniform')\n",
    "model.fit(X_train_scaled, y_train)\n",
    "\n",
    "y_pred = model.predict(X_test_scaled)\n",
    "print(f\"KNN Accuracy: {accuracy_score(y_test, y_pred):.4f}\")"
   ]
  },
  {
   "cell_type": "code",
   "execution_count": 79,
   "id": "aa60ca13",
   "metadata": {
    "scrolled": true
   },
   "outputs": [
    {
     "name": "stdout",
     "output_type": "stream",
     "text": [
      "[[5645  255]\n",
      " [ 335 4156]]\n",
      "              precision    recall  f1-score   support\n",
      "\n",
      "           0       0.94      0.96      0.95      5900\n",
      "           1       0.94      0.93      0.93      4491\n",
      "\n",
      "    accuracy                           0.94     10391\n",
      "   macro avg       0.94      0.94      0.94     10391\n",
      "weighted avg       0.94      0.94      0.94     10391\n",
      "\n",
      "0.9563890492850107\n"
     ]
    }
   ],
   "source": [
    "print(confusion_matrix(y_test, y_pred))\n",
    "print(classification_report(y_test, y_pred))\n",
    "print(roc_auc_score(y_test, model.predict_proba(X_test)[:, 1]))"
   ]
  },
  {
   "cell_type": "markdown",
   "id": "3f9fb2c3",
   "metadata": {},
   "source": [
    " <div style=\"\n",
    "    border: 2px solid #3e4a5a; \n",
    "    border-radius: 12px; \n",
    "    background: linear-gradient(135deg, #d3d6db, #bfc7d5); \n",
    "    padding: 20px; \n",
    "    text-align: center; \n",
    "    font-family: 'Microsoft YaHei', sans-serif; \n",
    "    font-size: 24px; \n",
    "    font-weight: bold; \n",
    "    color: #2a2a40; \n",
    "    box-shadow: 4px 4px 12px rgba(0, 0, 0, 0.2);\n",
    "\">\n",
    "    <h1 style=\"margin: 0; font-size: 26px;\">EDA Analysis & Model Performance Comparison 🔧</h1>\n",
    "</div>\n"
   ]
  },
  {
   "cell_type": "markdown",
   "id": "7ae20ce7",
   "metadata": {},
   "source": [
    "## ✈️ Insights from Exploratory Data Analysis\n",
    "\n",
    "### 🎯 1. Overall Satisfaction and Flight Experience\n",
    "\n",
    "- Over **60%** of passengers were satisfied with the airline’s **luggage handling service** (rated 4–5 out of 5).\n",
    "- More than **50%** felt **comfortable in their seats**, rating the experience 4 or 5.\n",
    "- Passengers who gave the **WiFi service** a full score of 5 were **almost always satisfied** overall.\n",
    "- The **more legroom and better seat comfort**, the more likely passengers were to rate their experience positively.\n",
    "- Those in **Business Class** reported high satisfaction, while dissatisfaction was more common among Economy/Economy Plus passengers.\n",
    "\n",
    "---\n",
    "\n",
    "### 👤 2. Passenger Demographics and Patterns\n",
    "\n",
    "- The **sample is relatively balanced**, with **56.7% satisfied** vs. **43.3% unsatisfied**.\n",
    "- **Gender distribution** is even across the sample.\n",
    "- **Frequent flyers** (repeat customers) made up the majority of the dataset.\n",
    "- Most passengers flew for **business purposes**.\n",
    "- **Approximately 50%** of passengers chose **Business Class**.\n",
    "\n",
    "---\n",
    "\n",
    "### 🌍 3. Flight Characteristics and Behavioral Trends\n",
    "\n",
    "- A **strong 96% correlation** was observed between `'Departure delay'` and `'Arrival delay'`, which is expected.\n",
    "- **Passengers traveling long distances** were more likely to be in Business Class.\n",
    "- The **longer the flight duration**, the higher the satisfaction with in-flight entertainment and legroom (on average).\n",
    "- Most **regular customers were aged 30–50**, with an average a bit over 40.\n",
    "- In contrast, **non-regular customers** tended to be aged **25–40**, averaging slightly under 30.\n"
   ]
  },
  {
   "cell_type": "markdown",
   "id": "06f74332",
   "metadata": {},
   "source": [
    "## ✅ Comparison of Model Performance\n",
    "\n",
    "| Model Name             | Final Accuracy | Tuned or Not |\n",
    "|------------------------|----------------|---------------|\n",
    "| DummyClassifier        | 0.5678         | No            |\n",
    "| LogisticRegression     | 0.9348         | No            |\n",
    "| SVC                    | 0.9629         | No            |\n",
    "| RandomForestClassifier | 0.9595         | ✅ Yes        |\n",
    "| XGBClassifier          | 0.9656         | ✅ Yes        |\n",
    "| LGBMClassifier         | 0.9655         | ✅ Yes        |\n",
    "| KNeighborsClassifier   | 0.9432         | ✅ Yes        |\n"
   ]
  },
  {
   "cell_type": "markdown",
   "id": "a49ac495",
   "metadata": {},
   "source": [
    "## 🔍 Model Analysis and Justification\n",
    "\n",
    "### 1. 🟠 DummyClassifier\n",
    "- **Purpose**: Used as a baseline model that always predicts the most frequent class.\n",
    "- **Tuned**: No\n",
    "- **Accuracy**: 0.5678\n",
    "- **Comment**: Serves as a reference point; any real model should outperform this.\n",
    "\n",
    "---\n",
    "\n",
    "### 2. 🔵 LogisticRegression\n",
    "- **Why**: Simple, interpretable, and often performs well on linearly separable data.\n",
    "- **Tuned**: No\n",
    "- **Accuracy**: 0.9348\n",
    "- **Comment**: Performed decently without hyperparameter tuning, but was outperformed by tree-based methods.\n",
    "\n",
    "---\n",
    "\n",
    "### 3. 🟣 SVC (Support Vector Classifier)\n",
    "- **Why**: Effective in high-dimensional spaces, especially for binary classification.\n",
    "- **Tuned**: Yes (kernel, C)\n",
    "- **Accuracy**: 0.9629\n",
    "- **Comment**: Achieved very strong performance; a top candidate for final selection.\n",
    "\n",
    "---\n",
    "\n",
    "### 4. 🌲 RandomForestClassifier\n",
    "- **Why**: Ensemble method that handles non-linearities well and is robust to overfitting.\n",
    "- **Tuned**: Yes (e.g., `n_estimators=200`)\n",
    "- **Accuracy**: 0.9595\n",
    "- **Comment**: Very competitive accuracy with good interpretability via feature importance.\n",
    "\n",
    "---\n",
    "\n",
    "### 5. ⚡ XGBClassifier\n",
    "- **Why**: Known for high performance, handles missing values and imbalanced data well.\n",
    "- **Tuned**: Yes (e.g., `n_estimators=100`)\n",
    "- **Accuracy**: 0.9656\n",
    "- **Comment**: One of the highest-performing models; excellent generalization.\n",
    "\n",
    "---\n",
    "\n",
    "### 6. 💡 LGBMClassifier\n",
    "- **Why**: Gradient boosting model optimized for speed and accuracy.\n",
    "- **Tuned**: Yes (e.g., `learning_rate`, `n_estimators`)\n",
    "- **Accuracy**: 0.9655\n",
    "- **Comment**: Matches XGBoost in performance; training is faster and more scalable.\n",
    "\n",
    "---\n",
    "\n",
    "### 7. 🤝 KNeighborsClassifier\n",
    "- **Why**: Simple, intuitive model; good for small datasets or when distance-based reasoning is relevant.\n",
    "- **Tuned**: Yes (e.g., `n_neighbors=9`)\n",
    "- **Accuracy**: 0.9432\n",
    "- **Comment**: Outperformed baseline but not as good as tree-based models.\n",
    "\n",
    "---\n"
   ]
  },
  {
   "cell_type": "markdown",
   "id": "41eabb74",
   "metadata": {},
   "source": [
    "### ✅ Final Model Selection & Justification\n",
    "\n",
    "Based on the evaluation results of all seven models, **XGBoost (Accuracy: 96.56%)** and **LightGBM (Accuracy: 96.55%)** achieved the highest performance on the test set.\n",
    "\n",
    "However, XGBoost slightly outperformed the others and is also known for handling imbalanced data and missing values effectively. It provides good interpretability through feature importance.\n",
    "\n",
    "🟢 Therefore, **XGBoost** is selected as the final model for deployment.\n"
   ]
  }
 ],
 "metadata": {
  "kernelspec": {
   "display_name": "Python 3 (ipykernel)",
   "language": "python",
   "name": "python3"
  },
  "language_info": {
   "codemirror_mode": {
    "name": "ipython",
    "version": 3
   },
   "file_extension": ".py",
   "mimetype": "text/x-python",
   "name": "python",
   "nbconvert_exporter": "python",
   "pygments_lexer": "ipython3",
   "version": "3.7.16"
  }
 },
 "nbformat": 4,
 "nbformat_minor": 5
}
